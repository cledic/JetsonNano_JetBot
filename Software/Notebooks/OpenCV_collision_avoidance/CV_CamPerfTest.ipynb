{
 "cells": [
  {
   "cell_type": "code",
   "execution_count": 1,
   "metadata": {},
   "outputs": [],
   "source": [
    "# La Cam da OpenCV deve essere usate tramite GStreamer con un comando dedicato\n",
    "# https://stackoverflow.com/questions/64272731/open-cv-shows-green-screen-on-jetson-nano\n",
    "#\n",
    "# Eseguire :\n",
    "# sudo nvpmodel -m 0\n",
    "# sudo jetson_clocks\n",
    "# per portare a 4 le CPU operative. OpenCV su NVIDIA Jetson Nano non è ottimizzato per usare la GPU\n",
    "# Il codice gira tutto su CPU con una certa lentezza.\n",
    "#\n",
    "import cv2\n",
    "import numpy as np\n",
    "import math\n",
    "import os\n",
    "from matplotlib import pyplot as plt\n",
    "from IPython.display import clear_output, display, Image\n",
    "import ipywidgets\n",
    "import time\n",
    "\n",
    "%matplotlib inline\n"
   ]
  },
  {
   "cell_type": "code",
   "execution_count": 2,
   "metadata": {},
   "outputs": [],
   "source": [
    "# make_chunks function creats chunks.\n",
    "# inputs -- EdgeArray and the size_of_chunk to create.\n",
    "# output -- yield successive n-sized chunks.\n",
    "def make_chunks(EdgeArray, size_of_chunk):\n",
    "    chunks = []\n",
    "    for i in range(0, len(EdgeArray), size_of_chunk):\n",
    "        chunks.append(EdgeArray[i:i + size_of_chunk])\n",
    "    return chunks\n"
   ]
  },
  {
   "cell_type": "code",
   "execution_count": 3,
   "metadata": {},
   "outputs": [],
   "source": [
    "#\n",
    "# https://github.com/JetsonHacksNano/CSI-Camera/blob/master/simple_camera.py\n",
    "#\n",
    "\n",
    "# MIT License\n",
    "# Copyright (c) 2019-2022 JetsonHacks\n",
    "\n",
    "# Using a CSI camera (such as the Raspberry Pi Version 2) connected to a\n",
    "# NVIDIA Jetson Nano Developer Kit using OpenCV\n",
    "# Drivers for the camera and OpenCV are included in the base image\n",
    "\n",
    "import cv2\n",
    "\n",
    "\"\"\" \n",
    "gstreamer_pipeline returns a GStreamer pipeline for capturing from the CSI camera\n",
    "Flip the image by setting the flip_method (most common values: 0 and 2)\n",
    "display_width and display_height determine the size of each camera pane in the window on the screen\n",
    "Default 1920x1080 displayd in a 1/4 size window\n",
    "\"\"\"\n",
    "\n",
    "def gstreamer_pipeline(\n",
    "    sensor_id=0,\n",
    "    capture_width=640,\n",
    "    capture_height=480,\n",
    "    display_width=640,\n",
    "    display_height=480,\n",
    "    framerate=20,\n",
    "    flip_method=0,\n",
    "):\n",
    "    return (\n",
    "        \"nvarguscamerasrc sensor-id=%d !\"\n",
    "        \"video/x-raw(memory:NVMM), width=(int)%d, height=(int)%d, framerate=(fraction)%d/1 ! \"\n",
    "        \"nvvidconv flip-method=%d ! \"\n",
    "        \"video/x-raw, width=(int)%d, height=(int)%d, format=(string)BGRx ! \"\n",
    "        \"videoconvert ! \"\n",
    "        \"video/x-raw, format=(string)BGR ! appsink\"\n",
    "        % (\n",
    "            sensor_id,\n",
    "            capture_width,\n",
    "            capture_height,\n",
    "            framerate,\n",
    "            flip_method,\n",
    "            display_width,\n",
    "            display_height,\n",
    "        )\n",
    "    )"
   ]
  },
  {
   "cell_type": "code",
   "execution_count": 5,
   "metadata": {},
   "outputs": [
    {
     "data": {
      "application/vnd.jupyter.widget-view+json": {
       "model_id": "c58bbf215119413182aaf52d1770ef96",
       "version_major": 2,
       "version_minor": 0
      },
      "text/plain": [
       "Image(value=b'\\xff\\xd8\\xff\\xe0\\x00\\x10JFIF\\x00\\x01\\x01\\x00\\x00\\x01\\x00\\x01\\x00\\x00\\xff\\xdb\\x00C\\x00\\x02\\x01\\x0…"
      ]
     },
     "metadata": {},
     "output_type": "display_data"
    }
   ],
   "source": [
    "#\n",
    "# To display images to verify. Set to zero if not intrested in displaying images.\n",
    "testmode = 1  \n",
    "\n",
    "# Code to draw edge representation.\n",
    "\n",
    "# cap = cv2.VideoCapture(0)  # Creating object to capturing frame from inbult camera(0) or the external camera(1)\n",
    "cap = cv2.VideoCapture(gstreamer_pipeline(flip_method=0), cv2.CAP_GSTREAMER)\n",
    "\n",
    "if testmode == 1:\n",
    "    display_handle=display(None, display_id=True)\n",
    "    navigation_w = ipywidgets.Image(format='jpeg')\n",
    "\n",
    "StepSize = 5\n",
    "\n",
    "try:\n",
    "    while (1):\n",
    "        _, frame = cap.read()  # Reading the frame from the object.\n",
    "        img_navigation = frame.copy()  # Copy of frame which will be used for indicating direction of navigation.\n",
    "\n",
    "            # Code to display the results\n",
    "        if testmode == 1:\n",
    "            font = cv2.FONT_HERSHEY_SIMPLEX\n",
    "            navigation = cv2.putText(img_navigation, \"Ciao\", (275, 50), font, 1, (0, 0, 255), 2, cv2.LINE_AA)\n",
    "\n",
    "            clear_output(wait=True)            \n",
    "            lines, columns, _ =  navigation.shape\n",
    "            navigation = cv2.resize(navigation, (int(columns/4), int(lines/4)))\n",
    "            navigation_w.value =cv2.imencode('.jpeg', navigation)[1].tobytes()\n",
    "            display(navigation_w)\n",
    "            \n",
    "            #time.sleep(0.5)\n",
    "            \n",
    "except KeyboardInterrupt:\n",
    "    pass\n",
    "finally:\n",
    "    cap.release()\n",
    "    display_handle.update(None)    "
   ]
  },
  {
   "cell_type": "code",
   "execution_count": null,
   "metadata": {},
   "outputs": [],
   "source": [
    "_, frame = cap.read()\n",
    "frame"
   ]
  },
  {
   "cell_type": "code",
   "execution_count": null,
   "metadata": {},
   "outputs": [],
   "source": [
    "cv2.destroyAllWindows\n",
    "cap.release()"
   ]
  },
  {
   "cell_type": "code",
   "execution_count": null,
   "metadata": {},
   "outputs": [],
   "source": []
  }
 ],
 "metadata": {
  "kernelspec": {
   "display_name": "Python 3",
   "language": "python",
   "name": "python3"
  },
  "language_info": {
   "codemirror_mode": {
    "name": "ipython",
    "version": 3
   },
   "file_extension": ".py",
   "mimetype": "text/x-python",
   "name": "python",
   "nbconvert_exporter": "python",
   "pygments_lexer": "ipython3",
   "version": "3.6.9"
  }
 },
 "nbformat": 4,
 "nbformat_minor": 4
}
